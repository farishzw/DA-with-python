{
 "cells": [
  {
   "cell_type": "code",
   "execution_count": 2,
   "id": "df0d914a",
   "metadata": {},
   "outputs": [],
   "source": [
    "import pandas as pd"
   ]
  },
  {
   "cell_type": "code",
   "execution_count": 5,
   "id": "0d075548",
   "metadata": {
    "scrolled": true
   },
   "outputs": [
    {
     "name": "stdout",
     "output_type": "stream",
     "text": [
      "<class 'pandas.core.frame.DataFrame'>\n",
      "RangeIndex: 8077 entries, 0 to 8076\n",
      "Data columns (total 9 columns):\n",
      " #   Column       Non-Null Count  Dtype \n",
      "---  ------       --------------  ----- \n",
      " 0   auction_id   8077 non-null   object\n",
      " 1   experiment   8077 non-null   object\n",
      " 2   date         8077 non-null   object\n",
      " 3   hour         8077 non-null   int64 \n",
      " 4   device_make  8077 non-null   object\n",
      " 5   platform_os  8077 non-null   int64 \n",
      " 6   browser      8077 non-null   object\n",
      " 7   yes          8077 non-null   int64 \n",
      " 8   no           8077 non-null   int64 \n",
      "dtypes: int64(4), object(5)\n",
      "memory usage: 568.0+ KB\n"
     ]
    }
   ],
   "source": [
    "data = pd.read_csv('C:\\\\Users\\\\wz\\Downloads\\\\AdSmartABdata - AdSmartABdata.csv')\n",
    "data.info()"
   ]
  },
  {
   "cell_type": "code",
   "execution_count": 7,
   "id": "e6345e7f",
   "metadata": {},
   "outputs": [
    {
     "name": "stdout",
     "output_type": "stream",
     "text": [
      "experiment - ['exposed' 'control']\n",
      "date - ['2020-07-10' '2020-07-07' '2020-07-05' '2020-07-03' '2020-07-09'\n",
      " '2020-07-04' '2020-07-06' '2020-07-08']\n",
      "platform_os - [6 5 7]\n",
      "browser - ['Chrome Mobile' 'Chrome Mobile WebView' 'Facebook' 'Mobile Safari'\n",
      " 'Chrome Mobile iOS' 'Samsung Internet' 'Mobile Safari UI/WKWebView'\n",
      " 'Chrome' 'Opera Mini' 'Edge Mobile' 'Android' 'Pinterest' 'Opera Mobile'\n",
      " 'Firefox Mobile' 'Puffin']\n",
      "yes - [0 1]\n",
      "no - [0 1]\n"
     ]
    }
   ],
   "source": [
    "for column in data.drop(['auction_id','hour','device_make'],axis=1).columns:\n",
    "    print(column,'-',data[column].unique())"
   ]
  },
  {
   "cell_type": "code",
   "execution_count": 8,
   "id": "bf487e02",
   "metadata": {},
   "outputs": [
    {
     "data": {
      "text/plain": [
       "control    4071\n",
       "exposed    4006\n",
       "Name: experiment, dtype: int64"
      ]
     },
     "execution_count": 8,
     "metadata": {},
     "output_type": "execute_result"
    }
   ],
   "source": [
    "data['experiment'].value_counts()#试验组与控制组样本数量"
   ]
  },
  {
   "cell_type": "code",
   "execution_count": 34,
   "id": "fef9d306",
   "metadata": {},
   "outputs": [],
   "source": [
    "from scipy.stats import norm\n",
    "import math as mt"
   ]
  },
  {
   "cell_type": "code",
   "execution_count": 35,
   "id": "42aebd1d",
   "metadata": {},
   "outputs": [],
   "source": [
    "def cal_pvalue(z_score):\n",
    "    return scipy.stats.norm.sf(abs(z_score))#survival functiion:1-cdf=上侧分位数\n",
    "def get_z_score(alpha):\n",
    "    return norm.ppf(alpha)#percent point function根据cdf求解分位数\n",
    "def cal_propotion_confidence(p1,p2,p,n1,n2,alpha):\n",
    "    d = round(p2-p1,4)\n",
    "    sd = mt.sqrt(p*(1-p)*(1/n1+1/n2))\n",
    "    z_score = d/sd\n",
    "    p_value = round(cal_pvalue(z_score)*2,6)\n",
    "    ME = round(get_z_score(1-alpha/2)*sd,4)\n",
    "    print(\"P-value 为\",p_value,\"置信区间为[\",d-ME,\",\",d+ME,\"]\",\"试验产生的变化值\",d*100,\"%\")"
   ]
  },
  {
   "cell_type": "code",
   "execution_count": 36,
   "id": "2bd4431a",
   "metadata": {},
   "outputs": [
    {
     "name": "stdout",
     "output_type": "stream",
     "text": [
      "P-value 为 0.012316 置信区间为[ 0.004400000000000001 , 0.0358 ] 试验产生的变化值 2.01 %\n"
     ]
    }
   ],
   "source": [
    "control = data[data['experiment']=='control']\n",
    "exposed = data[data['experiment']=='exposed']\n",
    "total_control = control['auction_id'].nunique()#去重id数\n",
    "total_exposed = exposed['auction_id'].nunique()\n",
    "\n",
    "clicks_control = control['auction_id'].loc[(control['yes']==1) | (control['no']==1)].nunique()\n",
    "clicks_exposed = exposed['auction_id'].loc[(exposed['yes']==1) | (exposed['no']==1)].nunique()\n",
    "\n",
    "p1 = clicks_control/total_control\n",
    "p2 = clicks_exposed/total_exposed\n",
    "p = (clicks_control+clicks_exposed)/(total_control+total_exposed)\n",
    "\n",
    "cal_propotion_confidence(p1,p2,p,total_control,total_exposed,0.05)"
   ]
  }
 ],
 "metadata": {
  "kernelspec": {
   "display_name": "Python 3",
   "language": "python",
   "name": "python3"
  },
  "language_info": {
   "codemirror_mode": {
    "name": "ipython",
    "version": 3
   },
   "file_extension": ".py",
   "mimetype": "text/x-python",
   "name": "python",
   "nbconvert_exporter": "python",
   "pygments_lexer": "ipython3",
   "version": "3.8.8"
  }
 },
 "nbformat": 4,
 "nbformat_minor": 5
}
